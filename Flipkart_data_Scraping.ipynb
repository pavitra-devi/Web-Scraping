{
  "nbformat": 4,
  "nbformat_minor": 0,
  "metadata": {
    "colab": {
      "provenance": [],
      "authorship_tag": "ABX9TyOHHDMduTkxi+hDBOgiCrYb",
      "include_colab_link": true
    },
    "kernelspec": {
      "name": "python3",
      "display_name": "Python 3"
    },
    "language_info": {
      "name": "python"
    }
  },
  "cells": [
    {
      "cell_type": "markdown",
      "metadata": {
        "id": "view-in-github",
        "colab_type": "text"
      },
      "source": [
        "<a href=\"https://colab.research.google.com/github/pavitra-devi/Web-Scraping/blob/main/Flipkart_data_Scraping.ipynb\" target=\"_parent\"><img src=\"https://colab.research.google.com/assets/colab-badge.svg\" alt=\"Open In Colab\"/></a>"
      ]
    },
    {
      "cell_type": "code",
      "execution_count": null,
      "metadata": {
        "id": "ubZXEQYF7wPt"
      },
      "outputs": [],
      "source": [
        "from bs4 import BeautifulSoup\n",
        "import requests\n",
        "import time\n",
        "import datetime\n",
        "import smtplib"
      ]
    },
    {
      "cell_type": "code",
      "source": [
        "URL = 'https://www.flipkart.com/aroma-nb128-grace-24-hours-playing-time-deep-bass-made-india-neckband-earphone-bluetooth-headset/p/itm0f6fcf1300def?pid=ACCGM9CWWJJSEADJ&lid=LSTACCGM9CWWJJSEADJKX7UTX&marketplace=FLIPKART&store=0pm&srno=b_1_2&otracker=hp_omu_Beauty%252C%2BFood%252C%2BToys%2B%2526%2Bmore_1_7.dealCard.OMU_GPWXGD7P7DJW_5&otracker1=hp_omu_PINNED_neo%2Fmerchandising_Beauty%252C%2BFood%252C%2BToys%2B%2526%2Bmore_NA_dealCard_cc_1_NA_view-all_5&fm=neo%2Fmerchandising&iid=en_6HQDzbFSCKvuWL0qddYDl1B%2Fk8wX6DNv%2Bf%2F9HfVV8gF3lrbA9IbqdtNqTUEm0u%2FMxqUuekERRHGatkqeAwEHdQ%3D%3D&ppt=browse&ppn=browse&ssid=0uvk22gcww0000001686128727911'"
      ],
      "metadata": {
        "id": "0p_WM_0N8J8M"
      },
      "execution_count": null,
      "outputs": []
    },
    {
      "cell_type": "code",
      "source": [
        "#headers = {'User-Agent': 'Mozilla/5.0 (Macintosh; Intel Mac OS X 10_10_1) AppleWebKit/537.36 (KHTML, like Gecko) Chrome/39.0.2171.95 Safari/537.36'}"
      ],
      "metadata": {
        "id": "j8vzgqsUIe4f"
      },
      "execution_count": null,
      "outputs": []
    },
    {
      "cell_type": "code",
      "source": [
        "page = requests.get(URL)"
      ],
      "metadata": {
        "id": "Sv_VKBtj9LU1"
      },
      "execution_count": null,
      "outputs": []
    },
    {
      "cell_type": "code",
      "source": [
        "soup1 = BeautifulSoup(page.content, \"html.parser\")\n",
        "soup2 = BeautifulSoup(soup1.prettify(), \"html.parser\")\n",
        "#print(soup2)\n",
        "#print(soup1)\n",
        "title = soup1.find(attrs={'class':\"B_NuCI\"}).get_text()\n",
        "price = soup1.find(attrs={'class':\"_30jeq3 _16Jk6d\"}).get_text()\n",
        "price=price[1:]\n",
        "print(title)\n",
        "print(price)\n"
      ],
      "metadata": {
        "colab": {
          "base_uri": "https://localhost:8080/"
        },
        "id": "bJXJoBaN9NcA",
        "outputId": "c359416e-3333-4f31-930b-e0e06fc82884"
      },
      "execution_count": null,
      "outputs": [
        {
          "output_type": "stream",
          "name": "stdout",
          "text": [
            "Aroma NB128 Grace 24 Hours Playing Time | Deep Bass| Made In India Neckband Earphone Bluetooth Headset  (Black, Green, In the Ear)\n",
            "321\n"
          ]
        }
      ]
    },
    {
      "cell_type": "code",
      "source": [
        "def check_price():\n",
        "    URL = 'https://www.flipkart.com/aroma-nb128-grace-24-hours-playing-time-deep-bass-made-india-neckband-earphone-bluetooth-headset/p/itm0f6fcf1300def?pid=ACCGM9CWWJJSEADJ&lid=LSTACCGM9CWWJJSEADJKX7UTX&marketplace=FLIPKART&store=0pm&srno=b_1_2&otracker=hp_omu_Beauty%252C%2BFood%252C%2BToys%2B%2526%2Bmore_1_7.dealCard.OMU_GPWXGD7P7DJW_5&otracker1=hp_omu_PINNED_neo%2Fmerchandising_Beauty%252C%2BFood%252C%2BToys%2B%2526%2Bmore_NA_dealCard_cc_1_NA_view-all_5&fm=neo%2Fmerchandising&iid=en_6HQDzbFSCKvuWL0qddYDl1B%2Fk8wX6DNv%2Bf%2F9HfVV8gF3lrbA9IbqdtNqTUEm0u%2FMxqUuekERRHGatkqeAwEHdQ%3D%3D&ppt=browse&ppn=browse&ssid=0uvk22gcww0000001686128727911'\n",
        "    headers = {\"User-Agent\": \"Mozilla/5.0 (Windows NT 10.0; Win64; x64) AppleWebKit/537.36 (KHTML, like Gecko) Chrome/78.0.3904.108 Safari/537.36\", \"Accept-Encoding\":\"gzip, deflate\", \"Accept\":\"text/html,application/xhtml+xml,application/xml;q=0.9,*/*;q=0.8\", \"DNT\":\"1\",\"Connection\":\"close\", \"Upgrade-Insecure-Requests\":\"1\"}\n",
        "\n",
        "    page = requests.get(URL, headers=headers)\n",
        "\n",
        "    soup1 = BeautifulSoup(page.content, \"html.parser\")\n",
        "\n",
        "    soup2 = BeautifulSoup(soup1.prettify(), \"html.parser\")\n",
        "\n",
        "    title = soup1.find(attrs={'class':\"B_NuCI\"}).get_text()\n",
        "    price = soup1.find(attrs={'class':\"_30jeq3 _16Jk6d\"}).get_text()\n",
        "\n",
        "    price = price.strip()[1:]\n",
        "    title = title.strip()\n",
        "\n",
        "    import datetime\n",
        "\n",
        "    today = datetime.date.today()\n",
        "\n",
        "    import csv\n",
        "\n",
        "    header = ['Title', 'Price', 'Date']\n",
        "    data = [title, price, today]\n",
        "\n",
        "    with open('AmazonWebScraperDataset.csv', 'a+', newline='', encoding='UTF8') as f:\n",
        "        writer = csv.writer(f)\n",
        "        writer.writerow(data)\n",
        "\n",
        "\n",
        ""
      ],
      "metadata": {
        "id": "gnbUNgY-Wi-D"
      },
      "execution_count": null,
      "outputs": []
    },
    {
      "cell_type": "code",
      "source": [
        "'''def send_mail():\n",
        "    server = smtplib.SMTP('smtp.gmail.com',587)\n",
        "\n",
        "    server.starttls()\n",
        "\n",
        "    server.login('pavitradevipattapagalu@gmail.com','Pavi@12345')\n",
        "\n",
        "    subject = \"The Shirt you want is below $15! Now is your chance to buy!\"\n",
        "    body = \"Alex, This is the moment we have been waiting for. Now is your chance to pick up the shirt of your dreams. Don't mess it up! Link here: https://www.amazon.com/Funny-Data-Systems-Business-Analyst/dp/B07FNW9FGJ/ref=sr_1_3?dchild=1&keywords=data+analyst+tshirt&qid=1626655184&sr=8-3\"\n",
        "\n",
        "    msg = f\"Subject: {subject}\\n\\n{body}\"\n",
        "\n",
        "    server.sendmail(\n",
        "        'pavitradevipattapagalu@gmail.com',\n",
        "        msg\n",
        "\n",
        "    )'''"
      ],
      "metadata": {
        "id": "D2v9ExvsQ8ep",
        "colab": {
          "base_uri": "https://localhost:8080/",
          "height": 91
        },
        "outputId": "4cdd7ad3-46a7-4482-b838-26a2fb41400d"
      },
      "execution_count": null,
      "outputs": [
        {
          "output_type": "execute_result",
          "data": {
            "text/plain": [
              "'def send_mail():\\n    server = smtplib.SMTP(\\'smtp.gmail.com\\',587)\\n  \\n    server.starttls()\\n  \\n    server.login(\\'pavitradevipattapagalu@gmail.com\\',\\'Pavi@12345\\')\\n    \\n    subject = \"The Shirt you want is below $15! Now is your chance to buy!\"\\n    body = \"Alex, This is the moment we have been waiting for. Now is your chance to pick up the shirt of your dreams. Don\\'t mess it up! Link here: https://www.amazon.com/Funny-Data-Systems-Business-Analyst/dp/B07FNW9FGJ/ref=sr_1_3?dchild=1&keywords=data+analyst+tshirt&qid=1626655184&sr=8-3\"\\n   \\n    msg = f\"Subject: {subject}\\n\\n{body}\"\\n    \\n    server.sendmail(\\n        \\'pavitradevipattapagalu@gmail.com\\',\\n        msg\\n     \\n    )'"
            ],
            "application/vnd.google.colaboratory.intrinsic+json": {
              "type": "string"
            }
          },
          "metadata": {},
          "execution_count": 15
        }
      ]
    },
    {
      "cell_type": "code",
      "source": [],
      "metadata": {
        "id": "HppuQ6Hh0inz"
      },
      "execution_count": null,
      "outputs": []
    },
    {
      "cell_type": "code",
      "execution_count": null,
      "metadata": {
        "id": "CBQiTS2YUk-e"
      },
      "outputs": [],
      "source": [
        "import smtplib\n",
        "\n",
        "def send_mail(subject, body):\n",
        "    # Gmail SMTP server details\n",
        "    smtp_server = 'smtp.gmail.com'\n",
        "    smtp_port = 587\n",
        "    sender_email = 'XXXXXXXX@gmail.com'\n",
        "    sender_password = 'XXXXXXX'\n",
        "    receiver_email = 'XXXXXXXX@gmail.com'\n",
        "\n",
        "    # Create the email message\n",
        "    message = f'Subject: {subject}\\n\\n{body}'\n",
        "\n",
        "    # Connect to the SMTP server\n",
        "    server = smtplib.SMTP(smtp_server, smtp_port)\n",
        "    server.starttls()\n",
        "    server.login(sender_email, sender_password)\n",
        "\n",
        "    # Send the email\n",
        "    server.sendmail(sender_email, receiver_email, message)\n",
        "\n",
        "    # Disconnect from the SMTP server\n",
        "    server.quit()\n"
      ]
    },
    {
      "cell_type": "code",
      "source": [
        "check_price()\n",
        "if price==321:\n",
        "  subject = 'Price Alert'\n",
        "  body = 'The price value is 18. This is your notification.'\n",
        "  send_mail(subject,body)\n"
      ],
      "metadata": {
        "id": "Ero7la0zWvGP"
      },
      "execution_count": null,
      "outputs": []
    },
    {
      "cell_type": "code",
      "source": [
        "import pandas as pd\n",
        "\n",
        "df = pd.read_csv('/content/AmazonWebScraperDataset.csv')\n",
        "\n",
        "print(df)"
      ],
      "metadata": {
        "id": "8-9q3mdiWxmu",
        "colab": {
          "base_uri": "https://localhost:8080/"
        },
        "outputId": "6c29cec2-7e38-49a2-d537-670384629a40"
      },
      "execution_count": null,
      "outputs": [
        {
          "output_type": "stream",
          "name": "stdout",
          "text": [
            "  Aroma NB128 Grace 24 Hours Playing Time | Deep Bass| Made In India Neckband Earphone Bluetooth Headset  (Black, Green, In the Ear)  \\\n",
            "0  Aroma NB128 Grace 24 Hours Playing Time | Deep...                                                                                   \n",
            "1  Aroma NB128 Grace 24 Hours Playing Time | Deep...                                                                                   \n",
            "2  Aroma NB128 Grace 24 Hours Playing Time | Deep...                                                                                   \n",
            "\n",
            "   321  2023-06-12  \n",
            "0  321  2023-06-12  \n",
            "1  321  2023-06-12  \n",
            "2  321  2023-06-12  \n"
          ]
        }
      ]
    },
    {
      "cell_type": "code",
      "source": [],
      "metadata": {
        "id": "wvihN4OOTRcu"
      },
      "execution_count": null,
      "outputs": []
    }
  ]
}